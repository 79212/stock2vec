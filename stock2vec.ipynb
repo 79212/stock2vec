{
 "cells": [
  {
   "cell_type": "markdown",
   "metadata": {},
   "source": [
    "# stock2vec\n",
    "\n",
    "Create vectors for stocks based on their relative volatility."
   ]
  },
  {
   "cell_type": "code",
   "execution_count": 194,
   "metadata": {
    "collapsed": true
   },
   "outputs": [],
   "source": [
    "import math\n",
    "import numpy as np\n",
    "import pandas as pd"
   ]
  },
  {
   "cell_type": "markdown",
   "metadata": {},
   "source": [
    "### Explore\n",
    "\n",
    "Let's see how the data looks."
   ]
  },
  {
   "cell_type": "code",
   "execution_count": 199,
   "metadata": {
    "collapsed": false
   },
   "outputs": [
    {
     "name": "stdout",
     "output_type": "stream",
     "text": [
      "ticker     date     volatility\n",
      "A    1999-11-18   0.476731294623\n",
      "AAN    1991-01-10   0.0\n",
      "AAON    2003-01-21   0.225701809375\n",
      "AAPL    1991-03-13   0.237915475715\n",
      "AAWW    2013-06-06   0.177802169323\n",
      "ABC    2001-12-06   0.212854152101\n",
      "ABCO    2003-07-18   0.169252636615\n",
      "ABG    2006-04-24   0.142171607424\n",
      "ABM    2013-05-02   0.157470995798\n",
      "ABT    1989-06-05   0.111571200496\n",
      "(14684262, 14)\n"
     ]
    }
   ],
   "source": [
    "def calculate_volatility(row):\n",
    "    return np.sqrt((row.high - row.low) / row.close)\n",
    "\n",
    "def pretty_print_ticker(row):\n",
    "    volatility = calculate_volatility(row)\n",
    "    print(row.ticker.values[0], '  ', row.date.values[0], ' ', volatility.values[0])\n",
    "\n",
    "reader = pd.read_csv('data/wiki_prices.csv', chunksize=10000, iterator=True)\n",
    "\n",
    "print('ticker     date     volatility')\n",
    "\n",
    "for i in range(0,10):\n",
    "    r = reader.get_chunk()\n",
    "    pretty_print_ticker(r)"
   ]
  },
  {
   "cell_type": "markdown",
   "metadata": {},
   "source": [
    "## Preprocessing\n",
    "\n",
    "The data is ordered by ticker but I want to find context across the same date.\n",
    "\n",
    "So import the data into postgres with [pgfutter](https://github.com/lukasmartinelli/pgfutter).\n",
    "\n",
    "```shell\n",
    "DB_NAME=stocks pgfutter csv wiki_prices.csv\n",
    "```\n",
    "\n",
    "Convert the date column and add an index.\n",
    "\n",
    "```sql\n",
    "ALTER TABLE \"import\".\"wiki_prices\" ALTER COLUMN \"date\" \n",
    "  SET DATA TYPE date using(date::date);\n",
    "  \n",
    "CREATE INDEX idx_date ON import.wiki_prices(date);\n",
    "```\n",
    "\n",
    "Now we can build batches based on the date."
   ]
  },
  {
   "cell_type": "code",
   "execution_count": 191,
   "metadata": {
    "collapsed": false
   },
   "outputs": [
    {
     "name": "stdout",
     "output_type": "stream",
     "text": [
      "  ticker        date      volt\n",
      "0   NEON  2010-01-04  0.500000\n",
      "1   TXMD  2010-01-04  0.326667\n",
      "2   INSY  2010-01-04  0.312500\n",
      "3   YRCW  2010-01-04  0.242857\n",
      "4   MILL  2010-01-04  0.224000 (667694, 3)\n"
     ]
    }
   ],
   "source": [
    "from sqlalchemy import create_engine\n",
    "engine = create_engine('postgresql://localhost:5432/stocks')\n",
    "\n",
    "def get_stocks_by_year(year):\n",
    "    dateCondition = \"date >= '\" + str(year) + \"-01-01'::date AND date < '\" + str(year + 1) + \"-01-01'::date\"\n",
    "    \n",
    "    query = \"\"\"SELECT ticker, date, \n",
    "    abs((high::numeric(12,4) - low::numeric(12,4)) / close::numeric(12,4)) as volt\n",
    "    FROM import.wiki_prices WHERE \"\"\" + dateCondition + \"\"\"\n",
    "    AND high != '' AND low != '' AND close != '' AND close::numeric(12, 4) > 0\n",
    "    ORDER BY date, volt DESC\"\"\"\n",
    "    \n",
    "    return pd.read_sql_query(query, con=engine)\n",
    "\n",
    "stocks_year = get_stocks_by_year(2010)\n",
    "\n",
    "print(stocks_year.head(), stocks_year.shape)"
   ]
  },
  {
   "cell_type": "markdown",
   "metadata": {},
   "source": [
    "**Build Batches**\n",
    "\n",
    "For each stock, find C stocks that have the closest volatility to that ticker for that day."
   ]
  },
  {
   "cell_type": "code",
   "execution_count": 193,
   "metadata": {
    "collapsed": false
   },
   "outputs": [
    {
     "name": "stdout",
     "output_type": "stream",
     "text": [
      "NEON\n",
      "1   TXMD\n",
      "2   INSY\n",
      "3   YRCW\n",
      "TXMD\n",
      "0   NEON\n",
      "2   INSY\n",
      "3   YRCW\n",
      "4   MILL\n",
      "5   ESCA\n",
      "INSY\n",
      "0   NEON\n",
      "1   TXMD\n",
      "3   YRCW\n",
      "4   MILL\n",
      "YRCW\n",
      "0   NEON\n",
      "1   TXMD\n",
      "2   INSY\n",
      "4   MILL\n",
      "5   ESCA\n",
      "6   BPZ\n",
      "7   WSBF\n",
      "8   IVAC\n",
      "MILL\n",
      "3   YRCW\n",
      "5   ESCA\n"
     ]
    }
   ],
   "source": [
    "ticker_to_int = {}\n",
    "int_to_ticker = {}\n",
    "\n",
    "def get_ticker_int(ticker):\n",
    "    key = ticker_to_int.get(ticker, None)\n",
    "    if key is None:\n",
    "        key = ticker_to_int[ticker] = len(ticker_to_int)\n",
    "        int_to_ticker[key] = ticker\n",
    "    return key\n",
    "\n",
    "def get_window(stocks, idx, window_size=5):\n",
    "    R = np.random.randint(1, window_size+1)\n",
    "    start = idx - R if (idx - R) > 0 else 0\n",
    "    stop = idx + R\n",
    "    \n",
    "    stock = stocks.values[idx]\n",
    "    ticker_int = get_ticker_int(stock[0])\n",
    "    date = stock[1]\n",
    "    \n",
    "    window = []\n",
    "    \n",
    "    for i in range(start, stop+1):\n",
    "        context_stock = stocks.values[i]\n",
    "        context_ticker_int = get_ticker_int(context_stock[0])\n",
    "        if context_ticker_int != ticker_int and context_stock[1] == date:\n",
    "            window.append(context_ticker_int)\n",
    "    \n",
    "    return window\n",
    "\n",
    "for idx in range(0, 5):\n",
    "    print(train_stocks.values[idx][0])\n",
    "    for i in get_window(train_stocks, idx, 5):\n",
    "        print(i, ' ', int_to_ticker[i])"
   ]
  },
  {
   "cell_type": "markdown",
   "metadata": {},
   "source": [
    "## Vector Math\n",
    "\n",
    "Apple - Google = ?"
   ]
  },
  {
   "cell_type": "code",
   "execution_count": null,
   "metadata": {
    "collapsed": true
   },
   "outputs": [],
   "source": []
  }
 ],
 "metadata": {
  "kernelspec": {
   "display_name": "Python 3",
   "language": "python",
   "name": "python3"
  },
  "language_info": {
   "codemirror_mode": {
    "name": "ipython",
    "version": 3
   },
   "file_extension": ".py",
   "mimetype": "text/x-python",
   "name": "python",
   "nbconvert_exporter": "python",
   "pygments_lexer": "ipython3",
   "version": "3.6.0"
  }
 },
 "nbformat": 4,
 "nbformat_minor": 2
}
