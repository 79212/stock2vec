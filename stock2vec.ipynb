{
 "cells": [
  {
   "cell_type": "markdown",
   "metadata": {},
   "source": [
    "# stock2vec\n",
    "\n",
    "Create vectors for stocks based on their relative volatility.\n",
    "\n",
    "### Explore\n",
    "\n",
    "Let's see how our data looks."
   ]
  },
  {
   "cell_type": "code",
   "execution_count": 37,
   "metadata": {
    "collapsed": false
   },
   "outputs": [
    {
     "name": "stdout",
     "output_type": "stream",
     "text": [
      "ticker     date     volatility\n",
      "A    1999-11-18   0.476731294623\n",
      "AAN    1991-01-10   0.0\n",
      "AAON    2003-01-21   0.225701809375\n",
      "AAPL    1991-03-13   0.237915475715\n",
      "AAWW    2013-06-06   0.177802169323\n",
      "ABC    2001-12-06   0.212854152101\n",
      "ABCO    2003-07-18   0.169252636615\n",
      "ABG    2006-04-24   0.142171607424\n",
      "ABM    2013-05-02   0.157470995798\n",
      "ABT    1989-06-05   0.111571200496\n",
      "ACAD    2016-04-28   0.214440126612\n",
      "ACAT    2009-12-18   0.366929849405\n",
      "ACCO    2007-03-26   0.237255091996\n",
      "ACET    1997-03-03   0.16629255471\n",
      "ACFN    2011-10-12   0.155881574987\n",
      "ACHC    2008-08-19   0.20203050891\n",
      "ACI    2009-05-27   0.23020727987\n",
      "ACLS    2011-08-04   0.347228132337\n",
      "ACO    1996-08-14   0.174197668142\n",
      "ACRX    2017-03-06   0.246182981959\n"
     ]
    }
   ],
   "source": [
    "import math\n",
    "import numpy as np\n",
    "import pandas as pd\n",
    "\n",
    "def calculate_volatility(row):\n",
    "    return np.sqrt((row.high - row.low) / row.close)\n",
    "\n",
    "def pretty_print_ticker(row):\n",
    "    volatility = calculate_volatility(row)\n",
    "    print(row.ticker.values[0], '  ', row.date.values[0], ' ', volatility.values[0])\n",
    "\n",
    "reader = pd.read_csv('data/wiki_prices.csv', chunksize=10000, iterator=True)\n",
    "\n",
    "print('ticker     date     volatility')\n",
    "\n",
    "for i in range(0,20):\n",
    "    r = reader.get_chunk()\n",
    "    pretty_print_ticker(r)"
   ]
  },
  {
   "cell_type": "markdown",
   "metadata": {},
   "source": [
    "## Preprocessing\n",
    "\n",
    "The data is ordered by ticker. We want it ordered by date so import the data into postgres with [pgfutter](https://github.com/lukasmartinelli/pgfutter).\n",
    "\n",
    "```shell\n",
    "DB_NAME=stocks pgfutter csv wiki_prices.csv\n",
    "```\n",
    "\n",
    "Convert the date column and add an index.\n",
    "\n",
    "```sql\n",
    "ALTER TABLE \"import\".\"wiki_prices\" ALTER COLUMN \"date\" \n",
    "  SET DATA TYPE date using(date::date);\n",
    "  \n",
    "CREATE INDEX idx_date ON import.wiki_prices(date);\n",
    "```\n",
    "\n",
    "Now we can build batches based on the date."
   ]
  },
  {
   "cell_type": "code",
   "execution_count": 38,
   "metadata": {
    "collapsed": false
   },
   "outputs": [
    {
     "name": "stdout",
     "output_type": "stream",
     "text": [
      "  ticker        date      volt\n",
      "0   UNIS  2016-01-04  0.617558\n",
      "1   ULTR  2016-01-04  0.404441\n",
      "2   RBCN  2016-01-04  0.388752\n",
      "3   CIDM  2016-01-04  0.278358\n",
      "4   SFXE  2016-01-04  0.275641\n"
     ]
    }
   ],
   "source": [
    "from sqlalchemy import create_engine\n",
    "engine = create_engine('postgresql://localhost:5432/stocks')\n",
    "\n",
    "def get_month():\n",
    "    query = \"\"\"SELECT ticker, date, abs((high::numeric(12,4) - low::numeric(12,4)) / close::numeric(12,4)) as volt\n",
    "    FROM import.wiki_prices\n",
    "    WHERE date >= '2016-01-01'::date AND date < '2016-02-01'::date\n",
    "    AND high != '' AND low != '' AND close != ''\n",
    "    ORDER BY date, volt DESC\"\"\"\n",
    "    return pd.read_sql_query(query, con=engine)\n",
    "\n",
    "stocks = get_month()\n",
    "\n",
    "print(stocks.head())"
   ]
  },
  {
   "cell_type": "code",
   "execution_count": null,
   "metadata": {
    "collapsed": false
   },
   "outputs": [],
   "source": []
  },
  {
   "cell_type": "markdown",
   "metadata": {},
   "source": [
    "**Build Batches**\n",
    "\n",
    "For each stock, find C stocks that have the closest volatility in that day."
   ]
  },
  {
   "cell_type": "markdown",
   "metadata": {},
   "source": [
    "## Vector Math\n",
    "\n",
    "Apple - Google = ?"
   ]
  },
  {
   "cell_type": "code",
   "execution_count": null,
   "metadata": {
    "collapsed": true
   },
   "outputs": [],
   "source": []
  }
 ],
 "metadata": {
  "kernelspec": {
   "display_name": "Python 3",
   "language": "python",
   "name": "python3"
  },
  "language_info": {
   "codemirror_mode": {
    "name": "ipython",
    "version": 3
   },
   "file_extension": ".py",
   "mimetype": "text/x-python",
   "name": "python",
   "nbconvert_exporter": "python",
   "pygments_lexer": "ipython3",
   "version": "3.6.0"
  }
 },
 "nbformat": 4,
 "nbformat_minor": 2
}
