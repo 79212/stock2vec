{
 "cells": [
  {
   "cell_type": "markdown",
   "metadata": {},
   "source": [
    "# stock2vec\n",
    "\n",
    "Create vectors for stocks based on their relative volatility."
   ]
  },
  {
   "cell_type": "code",
   "execution_count": 1,
   "metadata": {
    "collapsed": true
   },
   "outputs": [],
   "source": [
    "import datetime\n",
    "import math\n",
    "import numpy as np\n",
    "import pandas as pd"
   ]
  },
  {
   "cell_type": "code",
   "execution_count": 2,
   "metadata": {
    "collapsed": false
   },
   "outputs": [
    {
     "name": "stdout",
     "output_type": "stream",
     "text": [
      "        ticker       date   adj_high    adj_low  adj_close  adj_volume\n",
      "7561760     KO 1962-01-02   0.273859   0.266600   0.266600   1612800.0\n",
      "5620436     GE 1962-01-02   0.341163   0.332214   0.334451   2073600.0\n",
      "1005749   ARNC 1962-01-02   3.492621   3.472967   3.472967     44800.0\n",
      "6739482    IBM 1962-01-02  15.738806  15.561965  15.561965    387200.0\n",
      "1416507     BA 1962-01-02   0.488470   0.480022   0.480022    352200.0\n"
     ]
    }
   ],
   "source": [
    "df = pd.read_csv('data/wiki_prices.csv', \n",
    "                        usecols=[\"ticker\", \"date\", \"adj_close\", \"adj_high\", \"adj_low\", \"adj_volume\"],\n",
    "                        parse_dates=['date'])\n",
    "\n",
    "df.sort_values('date', inplace=True)\n",
    "\n",
    "df = df[pd.notnull(df['adj_high']) & pd.notnull(df['adj_low']) & pd.notnull(df['adj_close'])]\n",
    "\n",
    "print(df.head())"
   ]
  },
  {
   "cell_type": "markdown",
   "metadata": {},
   "source": [
    "## Preprocessing\n",
    "\n",
    "Filter ticks for the past ~15 years of stocks with volume > 10000 and volatility > 0."
   ]
  },
  {
   "cell_type": "code",
   "execution_count": 3,
   "metadata": {
    "collapsed": false
   },
   "outputs": [
    {
     "name": "stdout",
     "output_type": "stream",
     "text": [
      "         ticker       date      volt\n",
      "3017202   CNBKA 2000-01-03  0.003679\n",
      "1872359     BMI 2000-01-03  0.004000\n",
      "5209067    FLIC 2000-01-03  0.004068\n",
      "5368021    FRED 2000-01-03  0.004391\n",
      "12380997    STL 2000-01-03  0.004499\n"
     ]
    }
   ],
   "source": [
    "df = df[df['date'] >= datetime.date(2000,1,1)]\n",
    "df = df[df['adj_volume'] > 10000]\n",
    "del df['adj_volume']\n",
    "\n",
    "df['volt'] = (df['adj_high'] - df['adj_low']) / df['adj_close']\n",
    "del df['adj_high']\n",
    "del df['adj_low']\n",
    "del df['adj_close']\n",
    "\n",
    "df = df[df['volt'] > 0]\n",
    "\n",
    "df.sort_values(['date', 'volt'], inplace=True)\n",
    "\n",
    "print(df.head())"
   ]
  },
  {
   "cell_type": "markdown",
   "metadata": {},
   "source": [
    "**Build Batches**\n",
    "\n",
    "For each stock, find C stocks that have the closest volatility to that ticker for that day."
   ]
  },
  {
   "cell_type": "code",
   "execution_count": 34,
   "metadata": {
    "collapsed": false
   },
   "outputs": [
    {
     "name": "stdout",
     "output_type": "stream",
     "text": [
      "window for CNBKA 0\n",
      "1 BMI\n",
      "2 FLIC\n",
      "window for WEYS 3\n",
      "0 CNBKA\n",
      "1 BMI\n",
      "2 FLIC\n",
      "4 FRED\n",
      "5 STL\n",
      "6 UMBF\n",
      "7 CRRC\n",
      "8 THO\n",
      "9 MAC\n",
      "10 MAS\n"
     ]
    }
   ],
   "source": [
    "ticker_to_int = {}\n",
    "int_to_ticker = {}\n",
    "\n",
    "def get_ticker_int(ticker):\n",
    "    key = ticker_to_int.get(ticker, None)\n",
    "    if key is None:\n",
    "        key = ticker_to_int[ticker] = len(ticker_to_int)\n",
    "        int_to_ticker[key] = ticker\n",
    "    return key\n",
    "\n",
    "def get_stock_date(stocks, idx):\n",
    "    return stocks.iloc[[idx], 1].values[0]\n",
    "\n",
    "def get_stock_ticker(stocks, idx):\n",
    "    return stocks.iloc[[idx], 0].values[0]\n",
    "\n",
    "def get_stock_int(stocks, idx):\n",
    "    return get_ticker_int(get_stock_ticker(stocks, idx))\n",
    "\n",
    "def get_window(stocks, idx, window_size=5):\n",
    "    R = np.random.randint(1, window_size+1)\n",
    "    start = idx - R if (idx - R) > 0 else 0\n",
    "    stop = idx + R\n",
    "    \n",
    "    stock_int = get_stock_int(stocks, idx)\n",
    "    stock_date = get_stock_date(stocks, idx)\n",
    "    \n",
    "    window = []\n",
    "    \n",
    "    for i in range(start, stop+1):\n",
    "        nearby_stock_int = get_stock_int(stocks, i)\n",
    "        nearby_stock_date = get_stock_date(stocks, i)\n",
    "        if nearby_stock_int != stock_int and nearby_stock_date == stock_date:\n",
    "            window.append(nearby_stock_int)\n",
    "    \n",
    "    return window\n",
    "\n",
    "for idx in range(0, 10, 5):\n",
    "    print('window for', get_stock_ticker(df, idx), get_stock_int(df, idx))\n",
    "    for i in get_window(df, idx, 5):\n",
    "        print(i, int_to_ticker[i])"
   ]
  },
  {
   "cell_type": "markdown",
   "metadata": {},
   "source": [
    "## Vector Math\n",
    "\n",
    "Apple - Google = ?"
   ]
  },
  {
   "cell_type": "code",
   "execution_count": null,
   "metadata": {
    "collapsed": true
   },
   "outputs": [],
   "source": []
  }
 ],
 "metadata": {
  "kernelspec": {
   "display_name": "Python 3",
   "language": "python",
   "name": "python3"
  },
  "language_info": {
   "codemirror_mode": {
    "name": "ipython",
    "version": 3
   },
   "file_extension": ".py",
   "mimetype": "text/x-python",
   "name": "python",
   "nbconvert_exporter": "python",
   "pygments_lexer": "ipython3",
   "version": "3.6.0"
  }
 },
 "nbformat": 4,
 "nbformat_minor": 2
}
